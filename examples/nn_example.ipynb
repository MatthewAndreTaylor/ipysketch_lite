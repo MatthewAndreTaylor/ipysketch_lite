{
 "cells": [
  {
   "cell_type": "markdown",
   "metadata": {},
   "source": [
    "# Using a sketch to evaluate a neural network 🤖\n",
    "\n",
    "> Why use a sketch?\n",
    "\n",
    "- Using a sketch can be an interactive way to test results from training a neural network with newly generated test data.\n",
    "- Your sketch is directly available as an Image inside of the cell.\n",
    "- Modify the sketch and observe changes in predictions to gain insights into model performance.\n"
   ]
  },
  {
   "cell_type": "code",
   "execution_count": null,
   "metadata": {},
   "outputs": [],
   "source": [
    "%pip install -q ipysketch_lite matplotlib numpy torch torchvision"
   ]
  },
  {
   "cell_type": "markdown",
   "metadata": {},
   "source": [
    "The following code creates a simple image classifier model for MNIST digits. It takes a 28x28 image as input and predicts the digit classification."
   ]
  },
  {
   "cell_type": "code",
   "execution_count": null,
   "metadata": {},
   "outputs": [],
   "source": [
    "import contextlib\n",
    "\n",
    "import matplotlib.pyplot as plt\n",
    "import numpy as np\n",
    "import torch\n",
    "import torch.nn as nn\n",
    "import torchvision\n",
    "import torchvision.transforms as transforms\n",
    "from PIL import Image\n",
    "from torch.utils.data import DataLoader\n",
    "\n",
    "# Setting up the data\n",
    "transform = transforms.Compose(\n",
    "    [transforms.ToTensor(), transforms.Normalize((0.1307,), (0.3081,))]\n",
    ")\n",
    "with contextlib.redirect_stdout(None):\n",
    "    train_dataset = torchvision.datasets.MNIST(\n",
    "        root=\"./data\", train=True, download=True, transform=transform\n",
    "    )\n",
    "    test_dataset = torchvision.datasets.MNIST(\n",
    "        root=\"./data\", train=False, download=True, transform=transform\n",
    "    )\n",
    "print(\n",
    "    \"MNIST dataset loaded successfully\"\n",
    "    if len(train_dataset) > 0 and len(test_dataset) > 0\n",
    "    else \"Loading MNIST dataset failed\"\n",
    ")\n",
    "train_loader = DataLoader(dataset=train_dataset, batch_size=32, shuffle=True)\n",
    "test_loader = DataLoader(dataset=test_dataset, batch_size=32, shuffle=False)\n",
    "\n",
    "\n",
    "class SimpleNN(nn.Module):\n",
    "    def __init__(self):\n",
    "        super().__init__()\n",
    "        self.fc1, self.fc2 = nn.Linear(28 * 28, 500), nn.Linear(500, 10)\n",
    "\n",
    "    def forward(self, x):\n",
    "        return self.fc2(torch.relu(self.fc1(x.view(-1, 28 * 28))))\n",
    "\n",
    "    @torch.no_grad()\n",
    "    def predict(self, input_image):\n",
    "        x = torch.tensor(input_image, dtype=torch.float32).view(1, 28, 28)\n",
    "        _, predicted = torch.max(model(x).data, 1)\n",
    "        return predicted\n",
    "\n",
    "\n",
    "model = SimpleNN()\n",
    "criterion = nn.CrossEntropyLoss()\n",
    "optimizer = torch.optim.Adam(model.parameters(), lr=0.001)\n",
    "\n",
    "# Training the model\n",
    "num_epochs = 4\n",
    "for epoch in range(num_epochs):\n",
    "    for batch_idx, (data, targets) in enumerate(train_loader):\n",
    "        outputs = model(data)\n",
    "        loss = criterion(outputs, targets)\n",
    "        optimizer.zero_grad()\n",
    "        loss.backward()\n",
    "        optimizer.step()\n",
    "        if (batch_idx + 1) % 200 == 0:\n",
    "            print(\n",
    "                f\"Epoch [{epoch+1}/{num_epochs}], Step [{batch_idx+1}/{len(train_loader)}], Loss: {loss.item():.4f}\"\n",
    "            )\n",
    "\n",
    "# Testing the model\n",
    "model.eval()\n",
    "with torch.no_grad():\n",
    "    correct, total = 0, 0\n",
    "    for data, targets in test_loader:\n",
    "        outputs = model(data)\n",
    "        _, predicted = torch.max(outputs.data, 1)\n",
    "        total += targets.size(0)\n",
    "        correct += (predicted == targets).sum().item()\n",
    "\n",
    "    print(\n",
    "        f\"Accuracy of the model on the 10000 test images: {100 * correct / total:.2f}%\"\n",
    "    )\n",
    "\n",
    "# Displaying the first image in the test set\n",
    "plt.title(f\"Predicted label: {predicted[0].item()}\")\n",
    "plt.imshow(data[0].view(28, 28).numpy(), cmap=\"gray\")\n",
    "plt.show()"
   ]
  },
  {
   "cell_type": "markdown",
   "metadata": {},
   "source": [
    "After training the model, test it on real-world, hand-drawn digit sketches to see how it performs."
   ]
  },
  {
   "cell_type": "code",
   "execution_count": null,
   "metadata": {},
   "outputs": [],
   "source": [
    "from ipysketch_lite import Sketch\n",
    "\n",
    "sketch = Sketch(width=100, height=100)"
   ]
  },
  {
   "cell_type": "markdown",
   "metadata": {},
   "source": [
    "Resize the sketch image to 28x28 and predict the digit using the model."
   ]
  },
  {
   "cell_type": "code",
   "execution_count": null,
   "metadata": {},
   "outputs": [],
   "source": [
    "image = sketch.image\n",
    "image = image.resize((28, 28), resample=0)\n",
    "\n",
    "image_array = np.array(image)\n",
    "out = np.sum(image_array, axis=2) > 0\n",
    "\n",
    "# Make a prediction with the sketch\n",
    "predicted = model.predict(out)\n",
    "\n",
    "plt.title(f\"Predicted label: {predicted[0].item()}\")\n",
    "plt.imshow(out, cmap=\"gray\")\n",
    "plt.show()"
   ]
  }
 ],
 "metadata": {
  "kernelspec": {
   "display_name": "Python 3",
   "language": "python",
   "name": "python3"
  },
  "language_info": {
   "codemirror_mode": {
    "name": "ipython",
    "version": 3
   },
   "file_extension": ".py",
   "mimetype": "text/x-python",
   "name": "python",
   "nbconvert_exporter": "python",
   "pygments_lexer": "ipython3",
   "version": "3.9.6"
  }
 },
 "nbformat": 4,
 "nbformat_minor": 2
}
