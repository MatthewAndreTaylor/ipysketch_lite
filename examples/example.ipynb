{
 "cells": [
  {
   "cell_type": "markdown",
   "metadata": {},
   "source": [
    "# Create a Sketch with ipysketch_lite 🎨\n",
    "\n",
    "**ipysketch_lite** is a Python library for creating interactive sketches in Jupyter notebooks.\n",
    "\n",
    "## Key features\n",
    "\n",
    "- 👨‍🎨 Sketch drawings directly inside your notebook.\n",
    "- 🔧 Tools for common drawing utilities.\n",
    "- 💻 Sketch data is directly available in the Jupyter notebook. \n",
    "- 🏃‍♂️ Run in **VSCode**, **Jupyter**, **JupyterLab**, ...\n",
    "\n",
    "\n",
    "The following is an example of how to start sketching in a Jupyter notebook."
   ]
  },
  {
   "cell_type": "code",
   "execution_count": null,
   "metadata": {},
   "outputs": [],
   "source": [
    "%pip install ipysketch_lite # Install the ipysketch_lite package"
   ]
  },
  {
   "cell_type": "code",
   "execution_count": 1,
   "metadata": {},
   "outputs": [
    {
     "data": {
      "application/vnd.jupyter.widget-view+json": {
       "model_id": "5841169117b545cb9b2967cad256ea05",
       "version_major": 2,
       "version_minor": 1
      },
      "text/plain": [
       "Sketch()"
      ]
     },
     "metadata": {},
     "output_type": "display_data"
    }
   ],
   "source": [
    "from ipysketch_lite import Sketch\n",
    "\n",
    "# Create a sketch instance\n",
    "sketch = Sketch()"
   ]
  },
  {
   "cell_type": "markdown",
   "metadata": {},
   "source": [
    "After drawing on the sketch, the data will be handy to use in the notebook.\n",
    "\n",
    "`sketch.image` is a PIL Image of the sketch"
   ]
  },
  {
   "cell_type": "code",
   "execution_count": 4,
   "metadata": {},
   "outputs": [
    {
     "name": "stdout",
     "output_type": "stream",
     "text": [
      "Sketch base64 image data: data:image/png;base64,iVBORw0KGgoAAAANSUhEUgAAAZAAAAEsCAYAAADtt+XCAAAAAXNSR0IArs4c6QAAIABJREFUeF7tnQ...\n"
     ]
    },
    {
     "data": {
      "image/png": "[encoded data removed]",
      "text/plain": [
       "<PIL.PngImagePlugin.PngImageFile image mode=RGBA size=400x300>"
      ]
     },
     "execution_count": 4,
     "metadata": {},
     "output_type": "execute_result"
    }
   ],
   "source": [
    "print(f\"Sketch base64 image data: {sketch.data[:100]}...\") # Print the first 100 characters of the image data\n",
    "\n",
    "sketch.image"
   ]
  }
 ],
 "metadata": {
  "kernelspec": {
   "display_name": "Python 3",
   "language": "python",
   "name": "python3"
  },
  "language_info": {
   "codemirror_mode": {
    "name": "ipython",
    "version": 3
   },
   "file_extension": ".py",
   "mimetype": "text/x-python",
   "name": "python",
   "nbconvert_exporter": "python",
   "pygments_lexer": "ipython3",
   "version": "3.9.6"
  }
 },
 "nbformat": 4,
 "nbformat_minor": 4
}
