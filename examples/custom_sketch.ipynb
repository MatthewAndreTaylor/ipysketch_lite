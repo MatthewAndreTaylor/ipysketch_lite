{
 "cells": [
  {
   "cell_type": "markdown",
   "id": "d807aedc",
   "metadata": {},
   "source": [
    "# Using a different drawing api 👨‍🎨\n",
    "\n",
    "The following example shows how `ipysketch` can be used with the [js-draw](https://github.com/personalizedrefrigerator/js-draw) api to access sketches from our notebook.\n",
    "JS-draw is an existing freehand drawing library for JavaScript and TypeScript.\n",
    "\n",
    "By extending the [Sketch](https://matthewandretaylor.github.io/ipysketch_lite/ipysketch_lite.html#ipysketch_lite.Sketch) class images can be stored and updated whenever a change is made in the frontend."
   ]
  },
  {
   "cell_type": "code",
   "execution_count": null,
   "id": "1a1e65de",
   "metadata": {},
   "outputs": [],
   "source": [
    "custom_template = \"\"\"\n",
    "function render({ model, el }) {\n",
    "  const script = document.createElement('script');\n",
    "  script.src = \"https://cdn.jsdelivr.net/npm/js-draw@1.20.3/dist/bundle.min.js\";\n",
    "  script.onload = () => {\n",
    "    const sketch = document.createElement('div');\n",
    "    sketch.innerHTML = `<div id=\"editor\"></div>`;\n",
    "    sketch.style.display = 'flex';\n",
    "    sketch.style.justifyContent = 'center';\n",
    "    sketch.style.alignItems = 'center';\n",
    "    el.appendChild(sketch);\n",
    "    var canvas = document.createElement('canvas');\n",
    "    var ctx = canvas.getContext('2d');\n",
    "\n",
    "    const editorElement = sketch.querySelector('#editor');\n",
    "    editorElement.style.width = '800px';\n",
    "    editorElement.style.height = '600px';\n",
    "    const editor = new jsdraw.Editor(editorElement);\n",
    "    const addToHistory = false;\n",
    "    editor.dispatch(editor.image.setAutoresizeEnabled(true), addToHistory);\n",
    "    editor.addToolbar();\n",
    "    \n",
    "    function canvasUpload() {\n",
    "      {canvas_upload}\n",
    "    }\n",
    "\n",
    "    function madeEdit() {\n",
    "        var viewport = editor.image.getImportExportViewport();\n",
    "        canvas.width = viewport.getScreenRectSize().x;\n",
    "        canvas.height = viewport.getScreenRectSize().y;\n",
    "        var renderer = new jsdraw.CanvasRenderer(ctx, viewport);\n",
    "        editor.image.render(renderer, viewport);\n",
    "        canvasUpload();\n",
    "    }\n",
    "\n",
    "    editorElement.addEventListener('mouseup', madeEdit);\n",
    "    editorElement.addEventListener('touchend', madeEdit);\n",
    "  };\n",
    "\n",
    "  document.head.appendChild(script);\n",
    "}\n",
    "\n",
    "export default { render };\n",
    "\"\"\"\n",
    "\n",
    "from ipysketch_lite import Sketch\n",
    "\n",
    "\n",
    "class CustomSketch(Sketch):\n",
    "    \"\"\"\n",
    "    This includes a template that allows for using different api's to draw on the sketchpad\n",
    "    \"\"\"\n",
    "\n",
    "    def __init__(self, **kwargs):\n",
    "        super().__init__(**kwargs)\n",
    "\n",
    "    def get_template(self):\n",
    "        sketch_template = custom_template\n",
    "        for key, value in self.metadata.items():\n",
    "            sketch_template = sketch_template.replace(key, str(value))\n",
    "\n",
    "        return sketch_template"
   ]
  },
  {
   "cell_type": "code",
   "execution_count": null,
   "id": "78b141a7",
   "metadata": {},
   "outputs": [],
   "source": [
    "custom_sketch = CustomSketch()"
   ]
  },
  {
   "cell_type": "code",
   "execution_count": null,
   "id": "148311ad",
   "metadata": {},
   "outputs": [],
   "source": [
    "custom_sketch.image"
   ]
  }
 ],
 "metadata": {
  "kernelspec": {
   "display_name": "base",
   "language": "python",
   "name": "python3"
  },
  "language_info": {
   "codemirror_mode": {
    "name": "ipython",
    "version": 3
   },
   "file_extension": ".py",
   "mimetype": "text/x-python",
   "name": "python",
   "nbconvert_exporter": "python",
   "pygments_lexer": "ipython3",
   "version": "3.12.9"
  }
 },
 "nbformat": 4,
 "nbformat_minor": 5
}
