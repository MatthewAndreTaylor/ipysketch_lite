{
 "cells": [
  {
   "cell_type": "markdown",
   "metadata": {},
   "source": [
    "# Sketch annotation example 📝\n",
    "\n",
    "This example demonstrates how to sketch over an existing `Image` using the `AnnotationSketch`"
   ]
  },
  {
   "cell_type": "code",
   "execution_count": null,
   "metadata": {},
   "outputs": [],
   "source": [
    "%pip install -q ipysketch_lite matplotlib numpy"
   ]
  },
  {
   "cell_type": "markdown",
   "metadata": {},
   "source": [
    "First generating a sample image to annotate over. The following plot contains stats that could use annotations."
   ]
  },
  {
   "cell_type": "code",
   "execution_count": null,
   "metadata": {},
   "outputs": [],
   "source": [
    "import numpy as np\n",
    "import matplotlib.pyplot as plt\n",
    "import io\n",
    "from PIL import Image\n",
    "\n",
    "# Sample data\n",
    "names = [\"Alice\", \"Bob\", \"Charlie\", \"David\", \"Emma\"]\n",
    "values = [9, 15, 7, 12, 20]\n",
    "x = np.arange(len(names))\n",
    "curve_x = np.linspace(0, len(names) - 1, 100)\n",
    "curve_y = np.interp(curve_x, x, values)\n",
    "\n",
    "# Create example plot\n",
    "fig, ax = plt.subplots()\n",
    "ax.bar(names, values, color=\"skyblue\")\n",
    "ax.plot(curve_x, curve_y, color=\"red\")\n",
    "ax.set_title(\"Example plot\")\n",
    "\n",
    "# Convert to PIL image\n",
    "buf = io.BytesIO()\n",
    "plt.savefig(buf, format=\"png\")\n",
    "buf.seek(0)\n",
    "pil_image = Image.open(buf)"
   ]
  },
  {
   "cell_type": "markdown",
   "metadata": {},
   "source": [
    "Pass the `pil_image: Image` as an argument to `AnnotationSketch` to start drawing over it"
   ]
  },
  {
   "cell_type": "code",
   "execution_count": null,
   "metadata": {},
   "outputs": [],
   "source": [
    "from ipysketch_lite import AnnotationSketch\n",
    "\n",
    "sketch = AnnotationSketch(pil_image)"
   ]
  },
  {
   "cell_type": "code",
   "execution_count": null,
   "metadata": {},
   "outputs": [],
   "source": [
    "sketch.image"
   ]
  }
 ],
 "metadata": {
  "kernelspec": {
   "display_name": "Python 3",
   "language": "python",
   "name": "python3"
  },
  "language_info": {
   "codemirror_mode": {
    "name": "ipython",
    "version": 3
   },
   "file_extension": ".py",
   "mimetype": "text/x-python",
   "name": "python",
   "nbconvert_exporter": "python",
   "pygments_lexer": "ipython3",
   "version": "3.9.6"
  }
 },
 "nbformat": 4,
 "nbformat_minor": 4
}
